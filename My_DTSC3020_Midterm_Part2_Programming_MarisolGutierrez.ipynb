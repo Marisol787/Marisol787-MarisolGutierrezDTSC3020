{
  "cells": [
    {
      "cell_type": "markdown",
      "metadata": {
        "id": "view-in-github",
        "colab_type": "text"
      },
      "source": [
        "<a href=\"https://colab.research.google.com/github/Marisol787/Marisol787-MarisolGutierrezDTSC3020/blob/main/My_DTSC3020_Midterm_Part2_Programming_MarisolGutierrez.ipynb\" target=\"_parent\"><img src=\"https://colab.research.google.com/assets/colab-badge.svg\" alt=\"Open In Colab\"/></a>"
      ]
    },
    {
      "cell_type": "markdown",
      "id": "8e58db4f",
      "metadata": {
        "id": "8e58db4f"
      },
      "source": [
        "# DTSC 3020 — Midterm Exam (Part 2: Programming)\n",
        "University of North Texas\n",
        "\n",
        "**Course:** Introduction to Computation with Python (DTSC 3020)  \n",
        "**Exam:** Midterm — Programming (Ch. 1–8 concepts)\n",
        "\n"
      ]
    },
    {
      "cell_type": "markdown",
      "id": "ed86aaec",
      "metadata": {
        "id": "ed86aaec"
      },
      "source": [
        "---\n",
        "### Instructions\n",
        "- Write clean, readable Python code for each question.\n",
        "- Use only standard Python; no external libraries.\n",
        "- Where required, write a function and return the result.\n",
        "- After each solution cell, there is a **Part 2 — Test Scenario**. Follow the prompt to run your code.\n",
        "\n",
        "---"
      ]
    },
    {
      "cell_type": "markdown",
      "id": "227c4435",
      "metadata": {
        "id": "227c4435"
      },
      "source": [
        "## Question 1 — Create Member ID\n",
        "Write a Python function `create_member_id(full_name)` that creates a Library Member ID from a person’s full name.\n",
        "\n",
        "**Rules**\n",
        "- Normalize the name: remove extra spaces, convert to lowercase, and split by spaces.\n",
        "- Use the last word as the last name (e.g., `\"John Ronald Reuel Tolkien\"` → last name `tolkien`).\n",
        "- Use the first letters of all earlier words as initials (e.g., `jrr` for the example above).\n",
        "- Construct the member ID in this exact format: `lastname_initials` (underscore between them; no spaces).\n",
        "\n",
        "**Examples**\n",
        "- `\"Sara Amini\"` → `amini_sa`\n",
        "- `\"Mary Jane Watson\"` → `watson_mj`\n",
        "- `\"LINA\"` (single word) → use the word for both parts: `lina_l`\n",
        "\n",
        "Part 2 — Test Scenario (run using your function)\n",
        "names = [\"Sara Amini\", \"Ali\", \"Mary Jane\", \"John Smith\", \"LINA\", \"madonna\", \"sara amini\"]\n",
        "\n",
        "\n",
        "\n"
      ]
    },
    {
      "cell_type": "code",
      "execution_count": 2,
      "id": "51411a35",
      "metadata": {
        "id": "51411a35"
      },
      "outputs": [],
      "source": [
        "# Write your answer here for Q1\n",
        "def create_member_id(full_name):\n",
        "\n",
        "    newname = \" \".join(full_name.split()).lower()\n",
        "    nameplace = newname.split()\n",
        "\n",
        "    last_name = nameplace[-1]\n",
        "\n",
        "    initials = \"\".join([part[0] for part in nameplace[:-1]])\n",
        "\n",
        "    if not initials:\n",
        "        member_id = f\"{last_name}_{last_name[0]}\"\n",
        "    else:\n",
        "        member_id = f\"{last_name}_{initials}\"\n",
        "\n",
        "    return member_id"
      ]
    },
    {
      "cell_type": "code",
      "execution_count": 3,
      "id": "584ae4f0",
      "metadata": {
        "id": "584ae4f0",
        "colab": {
          "base_uri": "https://localhost:8080/"
        },
        "outputId": "402b47dd-0694-425b-e8a5-17910dafb1c7"
      },
      "outputs": [
        {
          "output_type": "stream",
          "name": "stdout",
          "text": [
            "\"Sara Amini\" -> \"amini_s\"\n",
            "\"Ali\" -> \"ali_a\"\n",
            "\"Mary Jane\" -> \"jane_m\"\n",
            "\"John Smith\" -> \"smith_j\"\n",
            "\"LINA\" -> \"lina_l\"\n",
            "\"madonna\" -> \"madonna_m\"\n",
            "\"sara amini\" -> \"amini_s\"\n"
          ]
        }
      ],
      "source": [
        "# Part 2 — Test Scenario (run using your function)\n",
        "names = [\"Sara Amini\", \"Ali\", \"Mary Jane\", \"John Smith\", \"LINA\", \"madonna\", \"sara amini\"]\n",
        "\n",
        "for name in names:\n",
        "    member_id = create_member_id(name)\n",
        "    print(f'\"{name}\" -> \"{member_id}\"')"
      ]
    },
    {
      "cell_type": "markdown",
      "id": "c1727720",
      "metadata": {
        "id": "c1727720"
      },
      "source": [
        "## Question 2 — Movie Ticket Booth\n",
        "\n",
        "Write a Python program that simulates a movie ticket booth using this price list:\n",
        "\n",
        "```python\n",
        "prices = {\"adult\": 12.5, \"child\": 8, \"senior\": 9.5, \"student\": 10}\n",
        "```\n",
        "\n",
        "**Program Requirements**\n",
        "- Repeatedly ask the user to enter a ticket type or type `done` to finish.\n",
        "- Valid inputs: `adult`, `child`, `senior`, `student`, or `done`.\n",
        "- If the ticket type exists, add its price to a running total and print a confirmation message.\n",
        "- If it doesn’t exist, print `\"Invalid ticket type\"`.\n",
        "- When the user types `done`, stop and show:\n",
        "  - **Subtotal** (sum of valid ticket prices)\n",
        "  - **Tax** = 8% of subtotal\n",
        "  - **Final total** = subtotal + tax\n"
      ]
    },
    {
      "cell_type": "code",
      "execution_count": 1,
      "id": "4b859e17",
      "metadata": {
        "id": "4b859e17",
        "colab": {
          "base_uri": "https://localhost:8080/"
        },
        "outputId": "63af886b-1470-489a-96bf-8e428af2884c"
      },
      "outputs": [
        {
          "output_type": "stream",
          "name": "stdout",
          "text": [
            "Please enter a ticket type: adult, child, senior, student, or type 'done' to finish: adult\n",
            "Added adult ticket for $12.50\n",
            "\n",
            "Please enter a ticket type: adult, child, senior, student, or type 'done' to finish: child\n",
            "Added child ticket for $8.00\n",
            "\n",
            "Please enter a ticket type: adult, child, senior, student, or type 'done' to finish: senior\n",
            "Added senior ticket for $9.50\n",
            "\n",
            "Please enter a ticket type: adult, child, senior, student, or type 'done' to finish: done\n",
            "Subtotal: $30.00\n",
            "Tax: $2.40\n",
            "Final Total: $32.40\n"
          ]
        }
      ],
      "source": [
        "# Write your answer here\n",
        "pricedat = {\"adult\": 12.5, \"child\": 8, \"senior\": 9.5, \"student\": 10}\n",
        "subtotal = 0\n",
        "\n",
        "while True:\n",
        "    t_t = input(\"Please enter a ticket type: adult, child, senior, student, or type 'done' to finish: \").lower()\n",
        "\n",
        "    if t_t == 'done':\n",
        "        break\n",
        "    elif t_t in pricedat:\n",
        "        price = pricedat[t_t]\n",
        "        subtotal += price\n",
        "        print(f\"Added {t_t} ticket for ${price:.2f}\\n\")\n",
        "    else:\n",
        "        print(\"Invalid ticket type\\n\")\n",
        "\n",
        "rate = 0.08\n",
        "tax = subtotal * rate\n",
        "ftotal = subtotal + tax\n",
        "\n",
        "print(f\"Subtotal: ${subtotal:.2f}\")\n",
        "print(f\"Tax: ${tax:.2f}\")\n",
        "print(f\"Final Total: ${ftotal:.2f}\")"
      ]
    },
    {
      "cell_type": "markdown",
      "id": "17b39afe",
      "metadata": {
        "id": "17b39afe"
      },
      "source": [
        "**Part 2 — Example Scenario**\n",
        "When prompted, type the following (each on a new line), then press Enter after each entry:\n",
        "\n",
        "```\n",
        "adult\n",
        "child\n",
        "student\n",
        "done\n",
        "```\n",
        "Your program should complete and display the subtotal, tax, and final total based on these entries.\n"
      ]
    },
    {
      "cell_type": "markdown",
      "id": "28c710b6",
      "metadata": {
        "id": "28c710b6"
      },
      "source": [
        "## Question 3 — Student Grade Analyzer\n",
        "\n",
        "Write a Python function `analyze_grades(grades)` that takes a list of numbers (0–100) and returns three values:\n",
        "1. average grade\n",
        "2. highest grade\n",
        "3. lowest grade\n",
        "\n",
        "**Constraints**\n",
        "- Use a function and return statement(s).\n",
        "- Do not use external libraries.\n"
      ]
    },
    {
      "cell_type": "code",
      "metadata": {
        "id": "a868146c"
      },
      "source": [
        "# Write your answer here for Q3\n",
        "def analyze_grades(grades):\n",
        "\n",
        "    for grade in grades:\n",
        "        if not 0 <= grade <= 100:\n",
        "            print(f\"Grades must be between 0 and 100..but the\")\n",
        "\n",
        "    average = sum(grades) / len(grades)\n",
        "    highest = max(grades)\n",
        "    lowest = min(grades)\n",
        "    return average, highest, lowest"
      ],
      "id": "a868146c",
      "execution_count": null,
      "outputs": []
    },
    {
      "cell_type": "code",
      "execution_count": null,
      "id": "ad2b0d29",
      "metadata": {
        "id": "ad2b0d29",
        "colab": {
          "base_uri": "https://localhost:8080/"
        },
        "outputId": "5969db64-5622-4ea3-d00b-617f6a9f4b5e"
      },
      "outputs": [
        {
          "output_type": "stream",
          "name": "stdout",
          "text": [
            "Average: 85.57\n",
            "Highest: 93\n",
            "Lowest: 72\n"
          ]
        }
      ],
      "source": [
        "# Part 2 — Test Scenario\n",
        "sample = [88, 92, 79, 93, 85, 90, 72]\n",
        "\n",
        "average, highest, lowest = analyze_grades(sample)\n",
        "\n",
        "print(f\"Average: {average:.2f}\")\n",
        "\n",
        "print(f\"Highest: {highest}\")\n",
        "\n",
        "print(f\"Lowest: {lowest}\")"
      ]
    },
    {
      "cell_type": "markdown",
      "id": "d378f3c3",
      "metadata": {
        "id": "d378f3c3"
      },
      "source": [
        "## Question 4 — PIN Verification\n",
        "Write a Python program that simulates an ATM PIN verification system.\n",
        "\n",
        "**Requirements**\n",
        "- The correct PIN is `4321`.\n",
        "- The user has at most **3 attempts** to enter the correct PIN.\n",
        "- If the PIN is correct: print `Access granted.` and stop.\n",
        "- If all 3 attempts fail: print `Card blocked.`\n",
        "- After each wrong attempt, also print the counter in the form `Wrong (x/3)`.\n"
      ]
    },
    {
      "cell_type": "code",
      "execution_count": null,
      "id": "5ea085a2",
      "metadata": {
        "id": "5ea085a2",
        "colab": {
          "base_uri": "https://localhost:8080/"
        },
        "outputId": "fa9158f6-7dd9-4110-ea4d-132d17770ab4"
      },
      "outputs": [
        {
          "output_type": "stream",
          "name": "stdout",
          "text": [
            "Enter your PIN: 1111\n",
            "Wrong (1/3)\n",
            "Enter your PIN: 2222\n",
            "Wrong (2/3)\n",
            "Enter your PIN: 4321\n",
            "Access granted.\n"
          ]
        }
      ],
      "source": [
        "# Write your answer here\n",
        "correct = \"4321\"\n",
        "attempts = 0\n",
        "maximum_attempts = 3\n",
        "\n",
        "while attempts < maximum_attempts:\n",
        "    inputpin = input(\"Enter your PIN: \")\n",
        "    if inputpin == correct:\n",
        "        print(\"Access granted.\")\n",
        "        break\n",
        "    else:\n",
        "        attempts += 1\n",
        "        if attempts < maximum_attempts:\n",
        "            print(f\"Wrong ({attempts}/{maximum_attempts})\")\n",
        "        else:\n",
        "            print(\"Card blocked.\")"
      ]
    },
    {
      "cell_type": "markdown",
      "id": "1c61e343",
      "metadata": {
        "id": "1c61e343"
      },
      "source": [
        "**Part 2 — Test Scenario**\n",
        "Run your program and, when prompted, enter these sequences to verify both behaviors:\n",
        "\n",
        "**Scenario A**\n",
        "```\n",
        "1111\n",
        "2222\n",
        "4321\n",
        "```\n",
        "\n",
        "\n"
      ]
    }
  ],
  "metadata": {
    "kernelspec": {
      "display_name": "Python 3",
      "language": "python",
      "name": "python3"
    },
    "language_info": {
      "name": "python",
      "version": "3.x"
    },
    "colab": {
      "provenance": [],
      "include_colab_link": true
    }
  },
  "nbformat": 4,
  "nbformat_minor": 5
}