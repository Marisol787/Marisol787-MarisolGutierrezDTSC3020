{
  "nbformat": 4,
  "nbformat_minor": 0,
  "metadata": {
    "colab": {
      "provenance": [],
      "authorship_tag": "ABX9TyPm1+5MMQQU45jqHS/YuyJd",
      "include_colab_link": true
    },
    "kernelspec": {
      "name": "python3",
      "display_name": "Python 3"
    },
    "language_info": {
      "name": "python"
    }
  },
  "cells": [
    {
      "cell_type": "markdown",
      "metadata": {
        "id": "view-in-github",
        "colab_type": "text"
      },
      "source": [
        "<a href=\"https://colab.research.google.com/github/Marisol787/Marisol787-MarisolGutierrezDTSC3020/blob/main/Assignment3.ipynb\" target=\"_parent\"><img src=\"https://colab.research.google.com/assets/colab-badge.svg\" alt=\"Open In Colab\"/></a>"
      ]
    },
    {
      "cell_type": "code",
      "execution_count": 95,
      "metadata": {
        "colab": {
          "base_uri": "https://localhost:8080/"
        },
        "id": "WWIlA8W6soC3",
        "outputId": "6cc235bd-5d35-4de4-f666-70aa42079928"
      },
      "outputs": [
        {
          "output_type": "stream",
          "name": "stdout",
          "text": [
            "How old are you?\n",
            "16\n",
            "Age Group: Teen\n",
            "Ticket Price: $ 6.0\n"
          ]
        }
      ],
      "source": [
        "age = int(input(\"How old are you?\\n\"))\n",
        "if 0 <= age <= 11:\n",
        "  age_group = \"Child\"\n",
        "  price = 3.00\n",
        "elif 12 <= age <= 17:\n",
        "  age_group = \"Teen\"\n",
        "  price = 6.00\n",
        "elif age >= 18:\n",
        "  age_group = \"Adult\"\n",
        "  price = 10.00\n",
        "else:\n",
        "  age_group = \"Invalid Age\"\n",
        "  price = \"Please enter a valid age\"\n",
        "print(\"Age Group:\", age_group)\n",
        "print(\"Ticket Price: $\", price)"
      ]
    },
    {
      "cell_type": "code",
      "source": [
        "cart_total = int(input(\"What's your total?\\n\"))\n",
        "if cart_total < 50:\n",
        "  discount_rate = 0.00\n",
        "elif 50 <= cart_total <= 99:\n",
        "  discount_rate = 0.10\n",
        "else:\n",
        "  discount_rate = 0.20\n",
        "discount = cart_total * discount_rate\n",
        "final_price = cart_total - discount\n",
        "\n",
        "print(\"Total with no Discount: $\", cart_total)\n",
        "print(\"Discount: $\", discount)\n",
        "print(\"Final Price: $\", final_price)"
      ],
      "metadata": {
        "colab": {
          "base_uri": "https://localhost:8080/"
        },
        "id": "i6yHW9fwvfu3",
        "outputId": "84064197-92f5-4c5a-c712-ff9b9c4d665e"
      },
      "execution_count": 97,
      "outputs": [
        {
          "output_type": "stream",
          "name": "stdout",
          "text": [
            "What's your total?\n",
            "85\n",
            "Total with no Discount: $ 85\n",
            "Discount: $ 8.5\n",
            "Final Price: $ 76.5\n"
          ]
        }
      ]
    },
    {
      "cell_type": "code",
      "source": [
        "score = int(input(\"What did you score?\\n \"))\n",
        "if 90 <= score <= 100:\n",
        "    grade = \"A\"\n",
        "    message = \"Awesome sauce!\"\n",
        "elif 80 <= score <= 89:\n",
        "    grade = \"B\"\n",
        "    message = \"Bee happy!\"\n",
        "elif 70 <= score <= 79:\n",
        "    grade = \"C\"\n",
        "    message = \"Cool for School!\"\n",
        "elif 60 <= score <= 69:\n",
        "    grade = \"D\"\n",
        "    message = \"Drat, better study!\"\n",
        "else:\n",
        "    grade = \"F\"\n",
        "    message = \"Fat Fail!\"\n",
        "print(\"Grade:\", grade)\n",
        "print(\"Message:\", message)"
      ],
      "metadata": {
        "colab": {
          "base_uri": "https://localhost:8080/"
        },
        "id": "-osGIUxWwzQD",
        "outputId": "84b6f29c-21d7-4730-ca37-46bda66eb24b"
      },
      "execution_count": 98,
      "outputs": [
        {
          "output_type": "stream",
          "name": "stdout",
          "text": [
            "What did you score?\n",
            " 73\n",
            "Grade: C\n",
            "Message: Cool for School!\n"
          ]
        }
      ]
    },
    {
      "cell_type": "code",
      "source": [
        "hours = int(input(\"How many hours did you park? \"))\n",
        "if 0 <= hours <= 2:\n",
        "  fee = 0\n",
        "elif 3 <= hours <= 5:\n",
        "  fee = hours * 3\n",
        "else:\n",
        "  fee = (3 * 3) + (hours - 5) * 5\n",
        "print(\"Length of Time Parked:\", hours, \"hours\")\n",
        "print(\"Total fee: $\", fee)"
      ],
      "metadata": {
        "colab": {
          "base_uri": "https://localhost:8080/"
        },
        "id": "KXSjMmG_yZvh",
        "outputId": "71383f66-01c6-469f-9bc4-8153fa49a065"
      },
      "execution_count": 99,
      "outputs": [
        {
          "output_type": "stream",
          "name": "stdout",
          "text": [
            "How many hours did you park? 6\n",
            "Length of Time Parked: 6 hours\n",
            "Total fee: $ 14\n"
          ]
        }
      ]
    },
    {
      "cell_type": "code",
      "source": [
        "menu = ['pizza', 'salad', 'sandwich']\n",
        "order = input(\"Which menu item would you like?\\n\")\n",
        "if order in menu:\n",
        "  print(f\"{order.title()} woohoo! Your order's coming right up!\")\n",
        "else:\n",
        "  print(f\"I apologize, but {order.title()} isn't available.\")"
      ],
      "metadata": {
        "colab": {
          "base_uri": "https://localhost:8080/"
        },
        "id": "kWehoSJv0Lpe",
        "outputId": "8fc10148-c596-446b-bffc-4fa72de393a9"
      },
      "execution_count": 63,
      "outputs": [
        {
          "output_type": "stream",
          "name": "stdout",
          "text": [
            "Which menu item would you like?\n",
            "salad\n",
            "Salad woohoo! Your order's coming right up!\n"
          ]
        }
      ]
    },
    {
      "cell_type": "code",
      "source": [
        "age = int(input(\"What's your age?\\n\"))\n",
        "experience = int(input(\"How many years of experience?\\n\"))\n",
        "if age > 22 and experience > 2:\n",
        "  print(\"Accepted\")\n",
        "else:\n",
        "  print(\"Not Accepted\")"
      ],
      "metadata": {
        "colab": {
          "base_uri": "https://localhost:8080/"
        },
        "id": "yIzj9kF-1TyZ",
        "outputId": "79b18aac-38c8-4d42-f600-b8d5c136ff7a"
      },
      "execution_count": 100,
      "outputs": [
        {
          "output_type": "stream",
          "name": "stdout",
          "text": [
            "What's your age?\n",
            "23\n",
            "How many years of experience?\n",
            "1\n",
            "Not Accepted\n"
          ]
        }
      ]
    },
    {
      "cell_type": "code",
      "source": [
        "temperature = int(input(\"What's the temperature out there in Farenheit? \"))\n",
        "if temperature < 10:\n",
        "  print(\"Coat and Gloves\")\n",
        "elif 10 <= temperature <= 19:\n",
        "  print(\"Jacket\")\n",
        "else: # 20 or more\n",
        "  print(\"T-Shirt\")"
      ],
      "metadata": {
        "colab": {
          "base_uri": "https://localhost:8080/"
        },
        "id": "Vl0F5wYq1zK3",
        "outputId": "09f783b2-62d8-4fdc-e17b-a2e728496cc8"
      },
      "execution_count": 75,
      "outputs": [
        {
          "output_type": "stream",
          "name": "stdout",
          "text": [
            "What's the temperature out there in Farenheit? 15\n",
            "Jacket\n"
          ]
        }
      ]
    },
    {
      "cell_type": "code",
      "source": [
        "salary = int(input(\"Whats your salary?\\n\"))\n",
        "credit_score = int(input(\"What's your credit score?\\n\"))\n",
        "if salary >= 3000 and credit_score >= 650:\n",
        "  print(\"Loan Approved\")\n",
        "else:\n",
        "  print(\"Loan Denied\")"
      ],
      "metadata": {
        "colab": {
          "base_uri": "https://localhost:8080/"
        },
        "id": "rcUXmt6o3Fza",
        "outputId": "b68bf2df-e150-4470-8d41-0747c061e3d5"
      },
      "execution_count": 81,
      "outputs": [
        {
          "output_type": "stream",
          "name": "stdout",
          "text": [
            "Whats your salary?\n",
            "3500\n",
            "What's your credit score?\n",
            "640\n",
            "Loan Denied\n"
          ]
        }
      ]
    },
    {
      "cell_type": "code",
      "source": [
        "password = input(\"Gimme password\\n\")\n",
        "length = len(password)\n",
        "if length < 6:\n",
        "  strength = \"Weak\"\n",
        "elif 6 <= length <= 10:\n",
        "  strength = \"Medium\"\n",
        "else: # more than 10\n",
        "  strength = \"Strong\"\n",
        "print(\"Password Strength:\", strength)"
      ],
      "metadata": {
        "colab": {
          "base_uri": "https://localhost:8080/"
        },
        "id": "39_NjYMl3duB",
        "outputId": "99530e55-c7f5-458c-fb61-923bf69623f6"
      },
      "execution_count": 88,
      "outputs": [
        {
          "output_type": "stream",
          "name": "stdout",
          "text": [
            "Gimme password\n",
            "hello123\n",
            "Password Strength: Medium\n"
          ]
        }
      ]
    },
    {
      "cell_type": "code",
      "source": [
        "guests = [\"Mimi\", \"Kimmy\", \"Andrea\"]\n",
        "guest = input(\"Guest name please!\\n\")\n",
        "if guest in guests:\n",
        "  print(\"Welcome\")\n",
        "else:\n",
        "  print(\"Not on the list\")"
      ],
      "metadata": {
        "colab": {
          "base_uri": "https://localhost:8080/"
        },
        "id": "lHtHY9YW4NRN",
        "outputId": "14c73ef3-4649-4985-81b9-879d0882aaad"
      },
      "execution_count": 94,
      "outputs": [
        {
          "output_type": "stream",
          "name": "stdout",
          "text": [
            "Guest name please!\n",
            "Sara\n",
            "Not on the list\n"
          ]
        }
      ]
    }
  ]
}