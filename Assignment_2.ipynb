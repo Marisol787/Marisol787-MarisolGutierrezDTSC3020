{
  "nbformat": 4,
  "nbformat_minor": 0,
  "metadata": {
    "colab": {
      "provenance": [],
      "authorship_tag": "ABX9TyMsqXE01l9EJ7c03fIYQwQ5",
      "include_colab_link": true
    },
    "kernelspec": {
      "name": "python3",
      "display_name": "Python 3"
    },
    "language_info": {
      "name": "python"
    }
  },
  "cells": [
    {
      "cell_type": "markdown",
      "metadata": {
        "id": "view-in-github",
        "colab_type": "text"
      },
      "source": [
        "<a href=\"https://colab.research.google.com/github/Marisol787/Marisol787-MarisolGutierrezDTSC3020/blob/main/Assignment_2.ipynb\" target=\"_parent\"><img src=\"https://colab.research.google.com/assets/colab-badge.svg\" alt=\"Open In Colab\"/></a>"
      ]
    },
    {
      "cell_type": "code",
      "source": [
        "fruit = [\"banana\", \"orange\", \"pinapple\"]\n",
        "print(fruit[0])\n",
        "print(fruit[1])\n",
        "print(fruit[2])"
      ],
      "metadata": {
        "colab": {
          "base_uri": "https://localhost:8080/"
        },
        "id": "XR5YFAHvV095",
        "outputId": "8ad6ebf9-e88d-40e6-a443-6794404c94fc"
      },
      "execution_count": 9,
      "outputs": [
        {
          "output_type": "stream",
          "name": "stdout",
          "text": [
            "banana\n",
            "orange\n",
            "pinapple\n"
          ]
        }
      ]
    },
    {
      "cell_type": "code",
      "source": [
        "names = [\"Serafina\", \"Greg\", \"Marisol\", \"Tony\"]\n",
        "names[0] = \"George\"\n",
        "print(names)"
      ],
      "metadata": {
        "colab": {
          "base_uri": "https://localhost:8080/"
        },
        "id": "EcloYMhvWXJo",
        "outputId": "c00e196c-0e9d-462d-dad0-25d1c6f0f2b1"
      },
      "execution_count": 11,
      "outputs": [
        {
          "output_type": "stream",
          "name": "stdout",
          "text": [
            "['George', 'Greg', 'Marisol', 'Tony']\n"
          ]
        }
      ]
    },
    {
      "cell_type": "code",
      "source": [
        "vehicles = [\"motorcycle\", \"minivan\", \"bicycle\", \"truck\", \"bus\"]\n",
        "vehicles.append(\"eighteen wheeler\")\n",
        "print(vehicles)"
      ],
      "metadata": {
        "colab": {
          "base_uri": "https://localhost:8080/"
        },
        "id": "q4jExlg_W6sX",
        "outputId": "4544f653-0d0c-4b7d-c224-6a74f2a2e1ed"
      },
      "execution_count": 13,
      "outputs": [
        {
          "output_type": "stream",
          "name": "stdout",
          "text": [
            "['motorcycle', 'minivan', 'bicycle', 'truck', 'bus', 'eighteen wheeler']\n"
          ]
        }
      ]
    },
    {
      "cell_type": "code",
      "source": [
        "foods = [\"apples\", \"banana\", \"icecream\", \"rice\", \"tuna\", \"hard candy\"]\n",
        "foods.remove(\"banana\")\n",
        "print(foods)"
      ],
      "metadata": {
        "colab": {
          "base_uri": "https://localhost:8080/"
        },
        "id": "y8vFkGJoXuOM",
        "outputId": "d04dd8dd-332a-437f-fe30-46f0d973680d"
      },
      "execution_count": 15,
      "outputs": [
        {
          "output_type": "stream",
          "name": "stdout",
          "text": [
            "['apples', 'icecream', 'rice', 'tuna', 'hard candy']\n"
          ]
        }
      ]
    },
    {
      "cell_type": "code",
      "source": [
        "cities = [\"Tokyo\", \"New York\", \"Paris\", \"Los Angeles\"]\n",
        "cities.sort()\n",
        "print(cities)"
      ],
      "metadata": {
        "colab": {
          "base_uri": "https://localhost:8080/"
        },
        "id": "-swY6yziY3HR",
        "outputId": "6e1e95c2-a7b0-4ba5-978e-5561cda512fe"
      },
      "execution_count": 16,
      "outputs": [
        {
          "output_type": "stream",
          "name": "stdout",
          "text": [
            "['Los Angeles', 'New York', 'Paris', 'Tokyo']\n"
          ]
        }
      ]
    },
    {
      "cell_type": "code",
      "source": [
        "animals = [\"cougar\", \"panther\", \"jaguar\"]\n",
        "for animal in animals:\n",
        "    print(animal)"
      ],
      "metadata": {
        "colab": {
          "base_uri": "https://localhost:8080/"
        },
        "id": "_QTCcd_JZLhK",
        "outputId": "dca4b0c7-2cfc-4469-f460-c8663d8c8a13"
      },
      "execution_count": 17,
      "outputs": [
        {
          "output_type": "stream",
          "name": "stdout",
          "text": [
            "cougar\n",
            "panther\n",
            "jaguar\n"
          ]
        }
      ]
    },
    {
      "cell_type": "code",
      "source": [
        "numbers = list(range(1, 6))\n",
        "for numbers in numbers:\n",
        "  print(numbers * 2)"
      ],
      "metadata": {
        "colab": {
          "base_uri": "https://localhost:8080/"
        },
        "id": "wr40snvzcXuw",
        "outputId": "c170fedc-f54d-40b4-8e04-b48581e2d46e"
      },
      "execution_count": 29,
      "outputs": [
        {
          "output_type": "stream",
          "name": "stdout",
          "text": [
            "2\n",
            "4\n",
            "6\n",
            "8\n",
            "10\n"
          ]
        }
      ]
    },
    {
      "cell_type": "code",
      "source": [
        "amigos = [\"Tony\", \"Vivian\", \"Karla\", \"Derek\", \"Kenny\", \"Ally\"]\n",
        "print(amigos[0:3])\n",
        "print(amigos[3:7])"
      ],
      "metadata": {
        "colab": {
          "base_uri": "https://localhost:8080/"
        },
        "id": "SuQz39f_cflR",
        "outputId": "4110a6a7-60af-449d-ee32-4f627000859d"
      },
      "execution_count": 34,
      "outputs": [
        {
          "output_type": "stream",
          "name": "stdout",
          "text": [
            "['Tony', 'Vivian', 'Karla']\n",
            "['Derek', 'Kenny', 'Ally']\n"
          ]
        }
      ]
    },
    {
      "cell_type": "code",
      "source": [
        "numbers = list(range(1, 11))\n",
        "for numbers in numbers:\n",
        "  print(numbers)"
      ],
      "metadata": {
        "colab": {
          "base_uri": "https://localhost:8080/"
        },
        "id": "3iSUCU_rebTO",
        "outputId": "612571f2-1d71-46c4-a3f4-043c1d858230"
      },
      "execution_count": 37,
      "outputs": [
        {
          "output_type": "stream",
          "name": "stdout",
          "text": [
            "1\n",
            "2\n",
            "3\n",
            "4\n",
            "5\n",
            "6\n",
            "7\n",
            "8\n",
            "9\n",
            "10\n"
          ]
        }
      ]
    },
    {
      "cell_type": "code",
      "source": [
        "squares = [value**2 for value in range(1, 6)]\n",
        "print(squares)"
      ],
      "metadata": {
        "colab": {
          "base_uri": "https://localhost:8080/"
        },
        "id": "-8lRI4SPesyj",
        "outputId": "9da21181-4ffc-4f08-c524-e30d38d31915"
      },
      "execution_count": 39,
      "outputs": [
        {
          "output_type": "stream",
          "name": "stdout",
          "text": [
            "[1, 4, 9, 16, 25]\n"
          ]
        }
      ]
    }
  ]
}