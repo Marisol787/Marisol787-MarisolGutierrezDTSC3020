{
  "nbformat": 4,
  "nbformat_minor": 0,
  "metadata": {
    "colab": {
      "provenance": [],
      "authorship_tag": "ABX9TyN7sqJL41AWV+ayEuo/kL9E",
      "include_colab_link": true
    },
    "kernelspec": {
      "name": "python3",
      "display_name": "Python 3"
    },
    "language_info": {
      "name": "python"
    }
  },
  "cells": [
    {
      "cell_type": "markdown",
      "metadata": {
        "id": "view-in-github",
        "colab_type": "text"
      },
      "source": [
        "<a href=\"https://colab.research.google.com/github/Marisol787/Marisol787-MarisolGutierrezDTSC3020/blob/main/InClass_Chapter6Assignment.ipynb\" target=\"_parent\"><img src=\"https://colab.research.google.com/assets/colab-badge.svg\" alt=\"Open In Colab\"/></a>"
      ]
    },
    {
      "cell_type": "code",
      "execution_count": 3,
      "metadata": {
        "colab": {
          "base_uri": "https://localhost:8080/"
        },
        "id": "f1liyHHpgqbZ",
        "outputId": "27941c24-49b7-48b8-8fe5-cf1ef529dd67"
      },
      "outputs": [
        {
          "output_type": "stream",
          "name": "stdout",
          "text": [
            "Students that borrowed more than 2 books:\n",
            "Sara\n",
            "Lina\n",
            "Total number of books borrowed: 10\n"
          ]
        }
      ],
      "source": [
        "borrowed_books = {\n",
        "    'Ali': 1,\n",
        "    'Sara': 3,\n",
        "    'Reza': 0,\n",
        "    'Lina': 4,\n",
        "    'Omid': 2,\n",
        "}\n",
        "print(\"Students that borrowed more than 2 books:\")\n",
        "for student, books in borrowed_books.items():\n",
        "    if books > 2:\n",
        "        print(student)\n",
        "totalnum = sum(borrowed_books.values())\n",
        "print(\"Total number of books borrowed:\", totalnum)"
      ]
    }
  ]
}