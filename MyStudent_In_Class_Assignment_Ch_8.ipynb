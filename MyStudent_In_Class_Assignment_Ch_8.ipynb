{
  "nbformat": 4,
  "nbformat_minor": 0,
  "metadata": {
    "colab": {
      "provenance": [],
      "include_colab_link": true
    },
    "kernelspec": {
      "name": "python3",
      "display_name": "Python 3"
    },
    "language_info": {
      "name": "python"
    }
  },
  "cells": [
    {
      "cell_type": "markdown",
      "metadata": {
        "id": "view-in-github",
        "colab_type": "text"
      },
      "source": [
        "<a href=\"https://colab.research.google.com/github/Marisol787/Marisol787-MarisolGutierrezDTSC3020/blob/main/MyStudent_In_Class_Assignment_Ch_8.ipynb\" target=\"_parent\"><img src=\"https://colab.research.google.com/assets/colab-badge.svg\" alt=\"Open In Colab\"/></a>"
      ]
    },
    {
      "cell_type": "markdown",
      "source": [
        "##Final Class Exercise"
      ],
      "metadata": {
        "id": "51gCuC6VJ3gu"
      }
    },
    {
      "cell_type": "markdown",
      "source": [
        "Write a Python function create_email(full_name) that builds a UNT email in the format\n",
        "firstname.lastname@my.unt.edu.\n",
        "\n",
        "Rules\n",
        "\n",
        " • Use the first and last word from full_name (case-insensitive).\n",
        "\n",
        " • Convert everything to lowercase.\n",
        "\n",
        " • If there is only one word, use it twice (e.g., \"ali\" → ali.ali@my.unt.edu).\n",
        "\n",
        " • Return the email string.\n",
        "\n",
        "\n",
        "Constraints\n",
        "\n",
        " • Use a function and return.\n",
        "\n",
        " • Do not use input() or external libraries.\n",
        "\n",
        "\n",
        " test your code with this list\n",
        " names = [\n",
        "    \"Sara Amini\",\n",
        "    \"Ali\",\n",
        "    \"Mary Jane\",\n",
        "    \"  John   Smith  \",\n",
        "    \"LINA\",\n",
        "    \"madonna\",\n",
        "    \"  sara   amini  \"\n",
        "]"
      ],
      "metadata": {
        "id": "7pxJ6i3jH7Yq"
      }
    },
    {
      "cell_type": "code",
      "source": [
        "def create_email(full_name):\n",
        "\n",
        "\n",
        "    words = full_name.lower().split()\n",
        "    if not words:\n",
        "        return \"\"\n",
        "    elif len(words) == 1:\n",
        "        first_name = words[0]\n",
        "        last_name = words[0]\n",
        "    else:\n",
        "        first_name = words[0]\n",
        "        last_name = words[-1]\n",
        "\n",
        "    return f\"{first_name}.{last_name}@my.unt.edu\"\n",
        "\n",
        "names = [\n",
        "    \"Sara Amini\",\n",
        "    \"Ali\",\n",
        "    \"Mary Jane\",\n",
        "    \"John Smith\",\n",
        "    \"LINA\",\n",
        "    \"madonna\",\n",
        "    \"sara amini\",\n",
        "]\n",
        "\n",
        "for name in names:\n",
        "    email = create_email(name)\n",
        "    print(f\"Howdy, if your name is.. '{name}', then your lovely email will return as.. '{email}'\")\n",
        "\n"
      ],
      "metadata": {
        "id": "6jcH9Qm_IXWh",
        "colab": {
          "base_uri": "https://localhost:8080/"
        },
        "outputId": "b32153c8-4aac-43c5-ae08-b019605da512"
      },
      "execution_count": 3,
      "outputs": [
        {
          "output_type": "stream",
          "name": "stdout",
          "text": [
            "Howdy, if your name is.. 'Sara Amini', then your lovely email will return as.. 'sara.amini@my.unt.edu'\n",
            "Howdy, if your name is.. 'Ali', then your lovely email will return as.. 'ali.ali@my.unt.edu'\n",
            "Howdy, if your name is.. 'Mary Jane', then your lovely email will return as.. 'mary.jane@my.unt.edu'\n",
            "Howdy, if your name is.. 'John Smith', then your lovely email will return as.. 'john.smith@my.unt.edu'\n",
            "Howdy, if your name is.. 'LINA', then your lovely email will return as.. 'lina.lina@my.unt.edu'\n",
            "Howdy, if your name is.. 'madonna', then your lovely email will return as.. 'madonna.madonna@my.unt.edu'\n",
            "Howdy, if your name is.. 'sara amini', then your lovely email will return as.. 'sara.amini@my.unt.edu'\n"
          ]
        }
      ]
    }
  ]
}